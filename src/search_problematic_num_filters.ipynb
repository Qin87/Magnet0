{
 "cells": [
  {
   "cell_type": "code",
   "execution_count": 1,
   "id": "cd15ef3a",
   "metadata": {},
   "outputs": [],
   "source": [
    "import pickle as pk"
   ]
  },
  {
   "cell_type": "code",
   "execution_count": 3,
   "id": "82bf796f",
   "metadata": {},
   "outputs": [],
   "source": [
    "settings = pk.load(open('Cyclic_setting_dict.pk','rb'))"
   ]
  },
  {
   "cell_type": "code",
   "execution_count": 4,
   "id": "469f88b8",
   "metadata": {},
   "outputs": [
    {
     "data": {
      "text/plain": [
       "{'syn/syn_tri_0': {'Magnet': 'log_root,../logs/,dataset,syn/syn_tri_0,epochs,3000,q,0.05,seed,0,K,1,layer,3,dropout,0.5,lr,0.01,l2,0.0005,activation,True,num_filter,16,,val_acc,0.999,test_acc,0.999',\n",
       "  'GIN': 'log_root,../logs/,dataset,syn/syn_tri_0,epochs,3000,num_filter,64,dropout,0.5,lr,0.001,l2,0.0005,layer,3,to_undirected,False,,val_acc,0.721,test_acc,0.718',\n",
       "  'GCN': 'log_root,../logs/,dataset,syn/syn_tri_0,epochs,3000,num_filter,64,dropout,0.5,lr,0.01,l2,0.0005,layer,3,to_undirected,False,,val_acc,0.815,test_acc,0.804',\n",
       "  'Cheb': 'log_root,../logs/,dataset,syn/syn_tri_0,K,2,epochs,3000,num_filter,32,dropout,0.5,layer,3,lr,0.005,l2,0.0005,,val_acc,0.726,test_acc,0.711',\n",
       "  'SAGE': 'log_root,../logs/,dataset,syn/syn_tri_0,epochs,3000,num_filter,64,dropout,0.5,lr,0.001,l2,0.0005,layer,3,to_undirected,False,,val_acc,0.895,test_acc,0.89',\n",
       "  'GAT': 'log_root,../logs/,dataset,syn/syn_tri_0,heads,4,epochs,3000,num_filter,16,dropout,0.5,lr,0.005,l2,0.0005,layer,3,to_undirected,False,,val_acc,0.988,test_acc,0.988',\n",
       "  'APPNP': 'log_root,../logs/,dataset,syn/syn_tri_0,epochs,3000,num_filter,32,alpha,0.05,to_undirected,False,lr,0.001,l2,0.0005,layer,3,dropout,0.5,,val_acc,0.225,test_acc,0.194',\n",
       "  'DiG': 'lr,0.005,num_filters,32,alpha,0.1,layer,3,val_acc,0.735,test_acc,0.7321142857142857,method_name,DiG',\n",
       "  'DiG_ib': 'lr,0.005,num_filters,6,alpha,0.05,layer,3,val_acc,0.999,test_acc,0.998342857142857,method_name,DiG_ib',\n",
       "  'CSym': 'lr,0.005,num_filters,16,layer,3,val_acc,1.0,test_acc,1.0'},\n",
       " 'syn/syn_tri_1': {'Magnet': 'log_root,../logs/,dataset,syn/syn_tri_1,epochs,3000,q,0.05,seed,0,K,1,layer,3,dropout,0.5,lr,0.01,l2,0.0005,activation,True,num_filter,16,,val_acc,1.0,test_acc,1.0',\n",
       "  'GIN': 'log_root,../logs/,dataset,syn/syn_tri_1,epochs,3000,num_filter,32,dropout,0.5,lr,0.001,l2,0.0005,layer,3,to_undirected,False,,val_acc,0.671,test_acc,0.664',\n",
       "  'GCN': 'log_root,../logs/,dataset,syn/syn_tri_1,epochs,3000,num_filter,64,dropout,0.5,lr,0.001,l2,0.0005,layer,3,to_undirected,False,,val_acc,0.787,test_acc,0.794',\n",
       "  'Cheb': 'log_root,../logs/,dataset,syn/syn_tri_1,K,2,epochs,3000,num_filter,16,dropout,0.5,layer,3,lr,0.01,l2,0.0005,,val_acc,0.352,test_acc,0.347',\n",
       "  'SAGE': 'log_root,../logs/,dataset,syn/syn_tri_1,epochs,3000,num_filter,16,dropout,0.5,lr,0.01,l2,0.0005,layer,3,to_undirected,False,,val_acc,0.854,test_acc,0.854',\n",
       "  'GAT': 'log_root,../logs/,dataset,syn/syn_tri_1,heads,8,epochs,3000,num_filter,64,dropout,0.5,lr,0.001,l2,0.0005,layer,3,to_undirected,False,,val_acc,0.98,test_acc,0.974',\n",
       "  'APPNP': 'log_root,../logs/,dataset,syn/syn_tri_1,epochs,3000,num_filter,64,alpha,0.2,to_undirected,True,lr,0.01,l2,0.0005,layer,3,dropout,0.5,,val_acc,0.222,test_acc,0.194',\n",
       "  'DiG': 'lr,0.005,num_filters,32,alpha,0.05,layer,2,val_acc,0.3134,test_acc,0.3121142857142857,method_name,DiG',\n",
       "  'DiG_ib': 'lr,0.005,num_filters,11,alpha,0.15,layer,3,val_acc,0.9914000000000002,test_acc,0.9902857142857144,method_name,DiG_ib',\n",
       "  'CSym': 'lr,0.005,num_filters,64,layer,3,val_acc,0.9660000000000002,test_acc,0.9671428571428571'},\n",
       " 'syn/syn_tri_3': {'Magnet': 'log_root,../logs/,dataset,syn/syn_tri_3,epochs,3000,q,0.05,seed,0,K,1,layer,3,dropout,0.5,lr,0.01,l2,0.0005,activation,True,num_filter,16,,val_acc,1.0,test_acc,1.0',\n",
       "  'GIN': 'log_root,../logs/,dataset,syn/syn_tri_3,epochs,3000,num_filter,64,dropout,0.5,lr,0.001,l2,0.0005,layer,3,to_undirected,False,,val_acc,0.7,test_acc,0.701',\n",
       "  'GCN': 'log_root,../logs/,dataset,syn/syn_tri_3,epochs,3000,num_filter,64,dropout,0.5,lr,0.01,l2,0.0005,layer,3,to_undirected,False,,val_acc,0.928,test_acc,0.92',\n",
       "  'Cheb': 'log_root,../logs/,dataset,syn/syn_tri_3,K,2,epochs,3000,num_filter,64,dropout,0.5,layer,3,lr,0.001,l2,0.0005,,val_acc,0.664,test_acc,0.666',\n",
       "  'SAGE': 'log_root,../logs/,dataset,syn/syn_tri_3,epochs,3000,num_filter,16,dropout,0.5,lr,0.01,l2,0.0005,layer,3,to_undirected,False,,val_acc,0.807,test_acc,0.803',\n",
       "  'GAT': 'log_root,../logs/,dataset,syn/syn_tri_3,heads,8,epochs,3000,num_filter,32,dropout,0.5,lr,0.001,l2,0.0005,layer,3,to_undirected,True,,val_acc,0.975,test_acc,0.973',\n",
       "  'APPNP': 'log_root,../logs/,dataset,syn/syn_tri_3,epochs,3000,num_filter,64,alpha,0.1,to_undirected,True,lr,0.01,l2,0.0005,layer,3,dropout,0.5,,val_acc,0.222,test_acc,0.196',\n",
       "  'DiG': 'lr,0.005,num_filters,64,alpha,0.15,layer,3,val_acc,0.8757999999999999,test_acc,0.8684,method_name,DiG',\n",
       "  'DiG_ib': 'lr,0.005,num_filters,21,alpha,0.05,layer,3,val_acc,0.9958,test_acc,0.9948,method_name,DiG_ib',\n",
       "  'CSym': 'lr,0.005,num_filters,64,layer,3,val_acc,0.9976,test_acc,0.9967428571428572'},\n",
       " 'syn/syn_tri_4': {'Magnet': 'log_root,../logs/,dataset,syn/syn_tri_4,epochs,3000,q,0.1,seed,0,K,1,layer,3,dropout,0.5,lr,0.01,l2,0.0005,activation,True,num_filter,16,,val_acc,1.0,test_acc,1.0',\n",
       "  'GIN': 'log_root,../logs/,dataset,syn/syn_tri_4,epochs,3000,num_filter,64,dropout,0.5,lr,0.001,l2,0.0005,layer,3,to_undirected,False,,val_acc,0.47,test_acc,0.472',\n",
       "  'GCN': 'log_root,../logs/,dataset,syn/syn_tri_4,epochs,3000,num_filter,32,dropout,0.5,lr,0.001,l2,0.0005,layer,3,to_undirected,False,,val_acc,0.666,test_acc,0.666',\n",
       "  'Cheb': 'log_root,../logs/,dataset,syn/syn_tri_4,K,2,epochs,3000,num_filter,32,dropout,0.5,layer,3,lr,0.01,l2,0.0005,,val_acc,0.679,test_acc,0.671',\n",
       "  'SAGE': 'log_root,../logs/,dataset,syn/syn_tri_4,epochs,3000,num_filter,32,dropout,0.5,lr,0.005,l2,0.0005,layer,3,to_undirected,True,,val_acc,0.69,test_acc,0.679',\n",
       "  'GAT': 'log_root,../logs/,dataset,syn/syn_tri_4,heads,8,epochs,3000,num_filter,32,dropout,0.5,lr,0.001,l2,0.0005,layer,3,to_undirected,False,,val_acc,0.833,test_acc,0.833',\n",
       "  'APPNP': 'log_root,../logs/,dataset,syn/syn_tri_4,epochs,3000,num_filter,64,alpha,0.15,to_undirected,False,lr,0.001,l2,0.0005,layer,3,dropout,0.5,,val_acc,0.223,test_acc,0.194',\n",
       "  'DiG': 'lr,0.005,num_filters,64,alpha,0.2,layer,2,val_acc,0.3216,test_acc,0.30817142857142854,method_name,DiG',\n",
       "  'DiG_ib': 'lr,0.005,num_filters,21,alpha,0.15,layer,3,val_acc,0.9692000000000001,test_acc,0.9668000000000001,method_name,DiG_ib',\n",
       "  'CSym': 'lr,0.005,num_filters,64,layer,3,val_acc,0.9648,test_acc,0.9645142857142858'},\n",
       " 'syn/syn_tri_2': {'Magnet': 'log_root,../logs/,dataset,syn/syn_tri_2,epochs,3000,q,0.05,seed,0,K,1,layer,3,dropout,0.5,lr,0.001,l2,0.0005,activation,True,num_filter,16,,val_acc,1.0,test_acc,1.0',\n",
       "  'GIN': 'log_root,../logs/,dataset,syn/syn_tri_2,epochs,3000,num_filter,64,dropout,0.5,lr,0.001,l2,0.0005,layer,3,to_undirected,False,,val_acc,0.623,test_acc,0.63',\n",
       "  'GCN': 'log_root,../logs/,dataset,syn/syn_tri_2,epochs,3000,num_filter,32,dropout,0.5,lr,0.001,l2,0.0005,layer,3,to_undirected,False,,val_acc,0.66,test_acc,0.663',\n",
       "  'Cheb': 'log_root,../logs/,dataset,syn/syn_tri_2,K,2,epochs,3000,num_filter,16,dropout,0.5,layer,3,lr,0.005,l2,0.0005,,val_acc,0.577,test_acc,0.585',\n",
       "  'SAGE': 'log_root,../logs/,dataset,syn/syn_tri_2,epochs,3000,num_filter,16,dropout,0.5,lr,0.005,l2,0.0005,layer,3,to_undirected,False,,val_acc,0.732,test_acc,0.73',\n",
       "  'GAT': 'log_root,../logs/,dataset,syn/syn_tri_2,heads,8,epochs,3000,num_filter,32,dropout,0.5,lr,0.001,l2,0.0005,layer,3,to_undirected,False,,val_acc,0.971,test_acc,0.966',\n",
       "  'APPNP': 'log_root,../logs/,dataset,syn/syn_tri_2,epochs,3000,num_filter,16,alpha,0.15,to_undirected,True,lr,0.01,l2,0.0005,layer,3,dropout,0.5,,val_acc,0.222,test_acc,0.195',\n",
       "  'DiG': 'lr,0.005,num_filters,16,alpha,0.05,layer,3,val_acc,0.39,test_acc,0.36914285714285716,method_name,DiG',\n",
       "  'DiG_ib': 'lr,0.005,num_filters,21,alpha,0.05,layer,3,val_acc,0.9263999999999999,test_acc,0.9320571428571428,method_name,DiG_ib',\n",
       "  'CSym': 'lr,0.005,num_filters,64,layer,3,val_acc,0.9936,test_acc,0.9952'},\n",
       " 'syn/syn_tri_5': {'Magnet': 'log_root,../logs/,dataset,syn/syn_tri_5,epochs,3000,q,0.1,seed,0,K,1,layer,3,dropout,0.5,lr,0.01,l2,0.0005,activation,True,num_filter,16,,val_acc,0.914,test_acc,0.909',\n",
       "  'GIN': 'log_root,../logs/,dataset,syn/syn_tri_5,epochs,3000,num_filter,32,dropout,0.5,lr,0.001,l2,0.0005,layer,3,to_undirected,False,,val_acc,0.413,test_acc,0.414',\n",
       "  'GCN': 'log_root,../logs/,dataset,syn/syn_tri_5,epochs,3000,num_filter,64,dropout,0.5,lr,0.001,l2,0.0005,layer,3,to_undirected,False,,val_acc,0.547,test_acc,0.54',\n",
       "  'Cheb': 'log_root,../logs/,dataset,syn/syn_tri_5,K,2,epochs,3000,num_filter,16,dropout,0.5,layer,3,lr,0.01,l2,0.0005,,val_acc,0.693,test_acc,0.687',\n",
       "  'SAGE': 'log_root,../logs/,dataset,syn/syn_tri_5,epochs,3000,num_filter,32,dropout,0.5,lr,0.01,l2,0.0005,layer,3,to_undirected,True,,val_acc,0.638,test_acc,0.624',\n",
       "  'GAT': 'log_root,../logs/,dataset,syn/syn_tri_5,heads,4,epochs,3000,num_filter,16,dropout,0.5,lr,0.001,l2,0.0005,layer,3,to_undirected,False,,val_acc,0.897,test_acc,0.889',\n",
       "  'APPNP': 'log_root,../logs/,dataset,syn/syn_tri_5,epochs,3000,num_filter,16,alpha,0.15,to_undirected,True,lr,0.005,l2,0.0005,layer,3,dropout,0.5,,val_acc,0.221,test_acc,0.193',\n",
       "  'DiG': 'lr,0.005,num_filters,16,alpha,0.15,layer,3,val_acc,0.3798,test_acc,0.3689714285714286,method_name,DiG',\n",
       "  'DiG_ib': 'lr,0.005,num_filters,21,alpha,0.1,layer,3,val_acc,0.8664,test_acc,0.8634857142857142,method_name,DiG_ib',\n",
       "  'CSym': 'lr,0.005,num_filters,64,layer,3,val_acc,0.7203999999999999,test_acc,0.7164571428571429'}}"
      ]
     },
     "execution_count": 4,
     "metadata": {},
     "output_type": "execute_result"
    }
   ],
   "source": [
    "settings"
   ]
  },
  {
   "cell_type": "code",
   "execution_count": 5,
   "id": "6bd1fa50",
   "metadata": {},
   "outputs": [],
   "source": [
    "settings_syn = pk.load(open('syn_settings.pk','rb'))"
   ]
  },
  {
   "cell_type": "code",
   "execution_count": 6,
   "id": "8c2c2e3e",
   "metadata": {},
   "outputs": [
    {
     "data": {
      "text/plain": [
       "{'syn/syn1': {'Magnet': 'log_root,../logs/,dataset,syn/syn1,epochs,3000,q,0.25,seed,0,K,1,layer,2,dropout,0.5,lr,0.01,l2,0.0005,activation,True,num_filter,16,',\n",
       "  'Sym': 'log_root,../logs/,dataset,syn/syn1,dropout,0.5,epochs,3000,lr,0.001,l2,0.0005,num_filter,30,',\n",
       "  'GIN': 'log_root,../logs/,dataset,syn/syn1,epochs,3000,num_filter,64,dropout,0.5,lr,0.001,l2,0.0005,to_undirected,False,',\n",
       "  'GCN': 'log_root,../logs/,dataset,syn/syn1,epochs,3000,num_filter,32,dropout,0.5,lr,0.01,l2,0.0005,to_undirected,False,',\n",
       "  'Cheb': 'log_root,../logs/,dataset,syn/syn1,K,2,epochs,3000,num_filter,16,dropout,0.5,lr,0.01,l2,0.0005,',\n",
       "  'SAGE': 'log_root,../logs/,dataset,syn/syn1,epochs,3000,num_filter,16,dropout,0.5,lr,0.005,l2,0.0005,to_undirected,False,',\n",
       "  'GAT': 'log_root,../logs/,dataset,syn/syn1,heads,8,epochs,3000,num_filter,16,dropout,0.5,lr,0.01,l2,0.0005,to_undirected,False,',\n",
       "  'APPNP': 'log_root,../logs/,dataset,syn/syn1,epochs,3000,num_filter,32,alpha,0.1,to_undirected,False,lr,0.01,l2,0.0005,dropout,0.5,',\n",
       "  'DiG': 'log_root,../logs/,dataset,syn/syn1,epochs,3000,num_filter,64,dropout,0.5,lr,0.01,l2,0.0005,alpha,0.2,',\n",
       "  'DiG_ib': 'lr,0.005,num_filters,21,alpha,0.2,layer,2,val_acc,0.9936000000000001,test_acc,0.9898461538461539,method_name,DiG_ib'},\n",
       " 'syn/syn2': {'Magnet': 'log_root,../logs/,dataset,syn/syn2,epochs,3000,q,0.1,seed,0,K,1,layer,2,dropout,0.5,lr,0.005,l2,0.0005,activation,True,num_filter,32,',\n",
       "  'Sym': 'log_root,../logs/,dataset,syn/syn2,dropout,0.5,epochs,3000,lr,0.01,l2,0.0005,num_filter,30,',\n",
       "  'GIN': 'log_root,../logs/,dataset,syn/syn2,epochs,3000,num_filter,64,dropout,0.5,lr,0.001,l2,0.0005,to_undirected,False,',\n",
       "  'GCN': 'log_root,../logs/,dataset,syn/syn2,epochs,3000,num_filter,64,dropout,0.5,lr,0.005,l2,0.0005,to_undirected,False,',\n",
       "  'Cheb': 'log_root,../logs/,dataset,syn/syn2,K,2,epochs,3000,num_filter,16,dropout,0.5,lr,0.01,l2,0.0005,',\n",
       "  'SAGE': 'log_root,../logs/,dataset,syn/syn2,epochs,3000,num_filter,32,dropout,0.5,lr,0.01,l2,0.0005,to_undirected,False,',\n",
       "  'GAT': 'log_root,../logs/,dataset,syn/syn2,heads,4,epochs,3000,num_filter,16,dropout,0.5,lr,0.01,l2,0.0005,to_undirected,False,',\n",
       "  'APPNP': 'log_root,../logs/,dataset,syn/syn2,epochs,3000,num_filter,64,alpha,0.1,to_undirected,False,lr,0.01,l2,0.0005,dropout,0.5,',\n",
       "  'DiG': 'log_root,../logs/,dataset,syn/syn2,epochs,3000,num_filter,64,dropout,0.5,lr,0.01,l2,0.0005,alpha,0.2,',\n",
       "  'DiG_ib': 'lr,0.005,num_filters,11,alpha,0.2,layer,2,val_acc,0.9843999999999999,test_acc,0.9815897435897435,method_name,DiG_ib'},\n",
       " 'syn/syn3': {'Magnet': 'log_root,../logs/,dataset,syn/syn3,epochs,3000,q,0.25,seed,0,K,1,layer,2,dropout,0.5,lr,0.01,l2,0.0005,activation,True,num_filter,32,',\n",
       "  'Sym': 'log_root,../logs/,dataset,syn/syn3,dropout,0.5,epochs,3000,lr,0.01,l2,0.0005,num_filter,30,',\n",
       "  'GIN': 'log_root,../logs/,dataset,syn/syn3,epochs,3000,num_filter,32,dropout,0.5,lr,0.001,l2,0.0005,to_undirected,False,',\n",
       "  'GCN': 'log_root,../logs/,dataset,syn/syn3,epochs,3000,num_filter,32,dropout,0.5,lr,0.01,l2,0.0005,to_undirected,False,',\n",
       "  'Cheb': 'log_root,../logs/,dataset,syn/syn3,K,2,epochs,3000,num_filter,64,dropout,0.5,lr,0.001,l2,0.0005,',\n",
       "  'SAGE': 'log_root,../logs/,dataset,syn/syn3,epochs,3000,num_filter,16,dropout,0.5,lr,0.005,l2,0.0005,to_undirected,False,',\n",
       "  'GAT': 'log_root,../logs/,dataset,syn/syn3,heads,8,epochs,3000,num_filter,16,dropout,0.5,lr,0.001,l2,0.0005,to_undirected,False,',\n",
       "  'APPNP': 'log_root,../logs/,dataset,syn/syn3,epochs,3000,num_filter,32,alpha,0.1,to_undirected,False,lr,0.01,l2,0.0005,dropout,0.5,',\n",
       "  'DiG': 'log_root,../logs/,dataset,syn/syn3,epochs,3000,num_filter,64,dropout,0.5,lr,0.01,l2,0.0005,alpha,0.2,',\n",
       "  'DiG_ib': 'lr,0.005,num_filters,6,alpha,0.2,layer,2,val_acc,0.8946,test_acc,0.8907179487179485,method_name,DiG_ib'},\n",
       " 'syn/syn4': {'Magnet': 'implement,cheb,log_root,../logs/,log_path,syn/syn4,data_path,../dataset/data/tmp/,dataset,syn/syn4,epochs,3000,q,0.2,seed,0,K,1,layer,2,dropout,0.5,lr,0.01,l2,0.0005,activation,True,num_filter,16,to_radians,none,,val_acc,0.993,test_acc,0.99',\n",
       "  'Sym': 'log_root,../logs/,dataset,syn/syn4,dropout,0.5,epochs,3000,lr,0.001,l2,0.0005,num_filter,30,',\n",
       "  'GIN': 'log_root,../logs/,dataset,syn/syn4,epochs,3000,num_filter,32,dropout,0.5,lr,0.001,l2,0.0005,to_undirected,False,',\n",
       "  'GCN': 'log_root,../logs/,dataset,syn/syn4,epochs,3000,num_filter,64,dropout,0.5,lr,0.01,l2,0.0005,to_undirected,False,',\n",
       "  'Cheb': 'log_root,../logs/,dataset,syn/syn4,K,2,epochs,3000,num_filter,16,dropout,0.5,lr,0.005,l2,0.0005,',\n",
       "  'SAGE': 'log_root,../logs/,dataset,syn/syn4,epochs,3000,num_filter,64,dropout,0.5,lr,0.01,l2,0.0005,to_undirected,False,',\n",
       "  'GAT': 'log_root,../logs/,dataset,syn/syn4,heads,8,epochs,3000,num_filter,64,dropout,0.5,lr,0.01,l2,0.0005,to_undirected,False,',\n",
       "  'APPNP': 'log_root,../logs/,dataset,syn/syn4,epochs,3000,num_filter,64,alpha,0.1,to_undirected,False,lr,0.01,l2,0.0005,dropout,0.5,',\n",
       "  'DiG': 'log_root,../logs/,dataset,syn/syn4,epochs,3000,num_filter,64,dropout,0.5,lr,0.01,l2,0.0005,alpha,0.2,',\n",
       "  'DiG_ib': 'lr,0.005,num_filters,11,alpha,0.05,layer,2,val_acc,0.9808000000000001,test_acc,0.9763589743589745,method_name,DiG_ib'},\n",
       " 'syn/syn5': {'Magnet': 'implement,cheb,log_root,../logs/,log_path,syn/syn5,data_path,../dataset/data/tmp/,dataset,syn/syn5,epochs,3000,q,0.2,seed,0,K,1,layer,2,dropout,0.5,lr,0.001,l2,0.0005,activation,True,num_filter,16,to_radians,none,,val_acc,0.979,test_acc,0.975',\n",
       "  'Sym': 'log_root,../logs/,dataset,syn/syn5,dropout,0.5,epochs,3000,lr,0.001,l2,0.0005,num_filter,30,',\n",
       "  'GIN': 'log_root,../logs/,dataset,syn/syn5,epochs,3000,num_filter,16,dropout,0.5,lr,0.001,l2,0.0005,to_undirected,False,',\n",
       "  'GCN': 'log_root,../logs/,dataset,syn/syn5,epochs,3000,num_filter,64,dropout,0.5,lr,0.01,l2,0.0005,to_undirected,False,',\n",
       "  'Cheb': 'log_root,../logs/,dataset,syn/syn5,K,2,epochs,3000,num_filter,32,dropout,0.5,lr,0.005,l2,0.0005,',\n",
       "  'SAGE': 'log_root,../logs/,dataset,syn/syn5,epochs,3000,num_filter,16,dropout,0.5,lr,0.01,l2,0.0005,to_undirected,True,',\n",
       "  'GAT': 'log_root,../logs/,dataset,syn/syn5,heads,8,epochs,3000,num_filter,64,dropout,0.5,lr,0.005,l2,0.0005,to_undirected,False,',\n",
       "  'APPNP': 'log_root,../logs/,dataset,syn/syn5,epochs,3000,num_filter,32,alpha,0.15,to_undirected,False,lr,0.01,l2,0.0005,dropout,0.5,',\n",
       "  'DiG': 'log_root,../logs/,dataset,syn/syn5,epochs,3000,num_filter,64,dropout,0.5,lr,0.005,l2,0.0005,alpha,0.2,',\n",
       "  'DiG_ib': 'lr,0.005,num_filters,11,alpha,0.05,layer,2,val_acc,0.9530000000000001,test_acc,0.9455384615384617,method_name,DiG_ib'},\n",
       " 'syn/syn6': {'Magnet': 'implement,cheb,log_root,../logs/,log_path,syn/syn6,data_path,../dataset/data/tmp/,dataset,syn/syn6,epochs,3000,q,0.25,seed,0,K,1,layer,2,dropout,0.5,lr,0.01,l2,0.0005,activation,True,num_filter,16,to_radians,none,,val_acc,0.948,test_acc,0.947',\n",
       "  'Sym': 'log_root,../logs/,dataset,syn/syn6,dropout,0.5,epochs,3000,lr,0.01,l2,0.0005,num_filter,30,',\n",
       "  'GIN': 'log_root,../logs/,dataset,syn/syn6,epochs,3000,num_filter,16,dropout,0.5,lr,0.001,l2,0.0005,to_undirected,False,',\n",
       "  'GCN': 'log_root,../logs/,dataset,syn/syn6,epochs,3000,num_filter,64,dropout,0.5,lr,0.001,l2,0.0005,to_undirected,False,',\n",
       "  'Cheb': 'log_root,../logs/,dataset,syn/syn6,K,2,epochs,3000,num_filter,32,dropout,0.5,lr,0.01,l2,0.0005,',\n",
       "  'SAGE': 'log_root,../logs/,dataset,syn/syn6,epochs,3000,num_filter,32,dropout,0.5,lr,0.005,l2,0.0005,to_undirected,False,',\n",
       "  'GAT': 'log_root,../logs/,dataset,syn/syn6,heads,4,epochs,3000,num_filter,64,dropout,0.5,lr,0.01,l2,0.0005,to_undirected,False,',\n",
       "  'APPNP': 'log_root,../logs/,dataset,syn/syn6,epochs,3000,num_filter,32,alpha,0.15,to_undirected,False,lr,0.01,l2,0.0005,dropout,0.5,',\n",
       "  'DiG': 'log_root,../logs/,dataset,syn/syn6,epochs,3000,num_filter,64,dropout,0.5,lr,0.005,l2,0.0005,alpha,0.2,',\n",
       "  'DiG_ib': 'lr,0.005,num_filters,11,alpha,0.05,layer,2,val_acc,0.8768,test_acc,0.8821025641025642,method_name,DiG_ib'},\n",
       " 'syn/syn7': {'Magnet': 'implement,cheb,log_root,../logs/,log_path,syn/syn7,data_path,../dataset/data/tmp/,dataset,syn/syn7,epochs,3000,q,0.2,seed,0,K,1,layer,2,dropout,0.5,lr,0.01,l2,0.0005,activation,True,num_filter,32,to_radians,none,,val_acc,0.895,test_acc,0.894',\n",
       "  'Sym': 'log_root,../logs/,dataset,syn/syn7,dropout,0.5,epochs,3000,lr,0.01,l2,0.0005,num_filter,30,',\n",
       "  'GIN': 'log_root,../logs/,dataset,syn/syn7,epochs,3000,num_filter,16,dropout,0.5,lr,0.001,l2,0.0005,to_undirected,False,',\n",
       "  'GCN': 'log_root,../logs/,dataset,syn/syn7,epochs,3000,num_filter,16,dropout,0.5,lr,0.01,l2,0.0005,to_undirected,False,',\n",
       "  'Cheb': 'log_root,../logs/,dataset,syn/syn7,K,2,epochs,3000,num_filter,16,dropout,0.5,lr,0.005,l2,0.0005,',\n",
       "  'SAGE': 'log_root,../logs/,dataset,syn/syn7,epochs,3000,num_filter,16,dropout,0.5,lr,0.001,l2,0.0005,to_undirected,False,',\n",
       "  'GAT': 'log_root,../logs/,dataset,syn/syn7,heads,8,epochs,3000,num_filter,32,dropout,0.5,lr,0.005,l2,0.0005,to_undirected,False,',\n",
       "  'APPNP': 'log_root,../logs/,dataset,syn/syn7,epochs,3000,num_filter,64,alpha,0.05,to_undirected,False,lr,0.005,l2,0.0005,dropout,0.5,',\n",
       "  'DiG': 'log_root,../logs/,dataset,syn/syn7,epochs,3000,num_filter,32,dropout,0.5,lr,0.005,l2,0.0005,alpha,0.2,',\n",
       "  'DiG_ib': 'lr,0.005,num_filters,21,alpha,0.05,layer,2,val_acc,0.821,test_acc,0.8086666666666666,method_name,DiG_ib'},\n",
       " 'syn/syn8': {'Magnet': 'implement,cheb,log_root,../logs/,log_path,syn/syn8,data_path,../dataset/data/tmp/,dataset,syn/syn8,epochs,3000,q,0.2,seed,0,K,1,layer,2,dropout,0.5,lr,0.01,l2,0.0005,activation,True,num_filter,64,to_radians,none,,val_acc,0.797,test_acc,0.796',\n",
       "  'Sym': 'log_root,../logs/,dataset,syn/syn8,dropout,0.5,epochs,3000,lr,0.01,l2,0.0005,num_filter,30,',\n",
       "  'GIN': 'log_root,../logs/,dataset,syn/syn8,epochs,3000,num_filter,16,dropout,0.5,lr,0.005,l2,0.0005,to_undirected,False,',\n",
       "  'GCN': 'log_root,../logs/,dataset,syn/syn8,epochs,3000,num_filter,32,dropout,0.5,lr,0.01,l2,0.0005,to_undirected,False,',\n",
       "  'Cheb': 'log_root,../logs/,dataset,syn/syn8,K,2,epochs,3000,num_filter,32,dropout,0.5,lr,0.005,l2,0.0005,',\n",
       "  'SAGE': 'log_root,../logs/,dataset,syn/syn8,epochs,3000,num_filter,32,dropout,0.5,lr,0.005,l2,0.0005,to_undirected,True,',\n",
       "  'GAT': 'log_root,../logs/,dataset,syn/syn8,heads,4,epochs,3000,num_filter,64,dropout,0.5,lr,0.001,l2,0.0005,to_undirected,False,',\n",
       "  'APPNP': 'log_root,../logs/,dataset,syn/syn8,epochs,3000,num_filter,64,alpha,0.05,to_undirected,False,lr,0.005,l2,0.0005,dropout,0.5,',\n",
       "  'DiG': 'log_root,../logs/,dataset,syn/syn8,epochs,3000,num_filter,64,dropout,0.5,lr,0.005,l2,0.0005,alpha,0.15,',\n",
       "  'DiG_ib': 'lr,0.005,num_filters,21,alpha,0.15,layer,2,val_acc,0.7022,test_acc,0.6858461538461539,method_name,DiG_ib'},\n",
       " 'syn/syn9': {'Magnet': 'implement,cheb,log_root,../logs/,log_path,syn/syn9,data_path,../dataset/data/tmp/,dataset,syn/syn9,epochs,3000,q,0.2,seed,0,K,1,layer,2,dropout,0.5,lr,0.01,l2,0.0005,activation,True,num_filter,16,to_radians,none,,val_acc,0.667,test_acc,0.667',\n",
       "  'Sym': 'log_root,../logs/,dataset,syn/syn9,dropout,0.5,epochs,3000,lr,0.01,l2,0.0005,num_filter,30,',\n",
       "  'GIN': 'log_root,../logs/,dataset,syn/syn9,epochs,3000,num_filter,32,dropout,0.5,lr,0.01,l2,0.0005,to_undirected,False,',\n",
       "  'GCN': 'log_root,../logs/,dataset,syn/syn9,epochs,3000,num_filter,64,dropout,0.5,lr,0.01,l2,0.0005,to_undirected,False,',\n",
       "  'Cheb': 'log_root,../logs/,dataset,syn/syn9,K,2,epochs,3000,num_filter,16,dropout,0.5,lr,0.01,l2,0.0005,',\n",
       "  'SAGE': 'log_root,../logs/,dataset,syn/syn9,epochs,3000,num_filter,64,dropout,0.5,lr,0.001,l2,0.0005,to_undirected,False,',\n",
       "  'GAT': 'log_root,../logs/,dataset,syn/syn9,heads,2,epochs,3000,num_filter,64,dropout,0.5,lr,0.01,l2,0.0005,to_undirected,True,',\n",
       "  'APPNP': 'log_root,../logs/,dataset,syn/syn9,epochs,3000,num_filter,32,alpha,0.05,to_undirected,False,lr,0.001,l2,0.0005,dropout,0.5,',\n",
       "  'DiG': 'log_root,../logs/,dataset,syn/syn9,epochs,3000,num_filter,64,dropout,0.5,lr,0.005,l2,0.0005,alpha,0.2,',\n",
       "  'DiG_ib': 'lr,0.005,num_filters,6,alpha,0.05,layer,2,val_acc,0.5848000000000001,test_acc,0.5752307692307692,method_name,DiG_ib'},\n",
       " 'syn/syn10': {'Magnet': 'implement,cheb,log_root,../logs/,log_path,syn/syn10,data_path,../dataset/data/tmp/,dataset,syn/syn10,epochs,3000,q,0.25,seed,0,K,1,layer,2,dropout,0.5,lr,0.01,l2,0.0005,activation,True,num_filter,16,to_radians,none,,val_acc,0.524,test_acc,0.533',\n",
       "  'Sym': 'log_root,../logs/,dataset,syn/syn10,dropout,0.5,epochs,3000,lr,0.005,l2,0.0005,num_filter,30,',\n",
       "  'GIN': 'log_root,../logs/,dataset,syn/syn10,epochs,3000,num_filter,16,dropout,0.5,lr,0.01,l2,0.0005,to_undirected,False,',\n",
       "  'GCN': 'log_root,../logs/,dataset,syn/syn10,epochs,3000,num_filter,32,dropout,0.5,lr,0.01,l2,0.0005,to_undirected,False,',\n",
       "  'Cheb': 'log_root,../logs/,dataset,syn/syn10,K,2,epochs,3000,num_filter,64,dropout,0.5,lr,0.01,l2,0.0005,',\n",
       "  'SAGE': 'log_root,../logs/,dataset,syn/syn10,epochs,3000,num_filter,32,dropout,0.5,lr,0.01,l2,0.0005,to_undirected,False,',\n",
       "  'GAT': 'log_root,../logs/,dataset,syn/syn10,heads,4,epochs,3000,num_filter,64,dropout,0.5,lr,0.01,l2,0.0005,to_undirected,True,',\n",
       "  'APPNP': 'log_root,../logs/,dataset,syn/syn10,epochs,3000,num_filter,64,alpha,0.1,to_undirected,False,lr,0.001,l2,0.0005,dropout,0.5,',\n",
       "  'DiG': 'log_root,../logs/,dataset,syn/syn10,epochs,3000,num_filter,64,dropout,0.5,lr,0.005,l2,0.0005,alpha,0.1,',\n",
       "  'DiG_ib': 'lr,0.005,num_filters,11,alpha,0.15,layer,2,val_acc,0.45099999999999996,test_acc,0.4401025641025641,method_name,DiG_ib'},\n",
       " 'syn/syn11': {'Magnet': 'implement,cheb,log_root,../logs/,log_path,syn/syn11,data_path,../dataset/data/tmp/,dataset,syn/syn11,epochs,3000,q,0.25,seed,0,K,1,layer,2,dropout,0.5,lr,0.005,l2,0.0005,activation,True,num_filter,16,to_radians,none,,val_acc,0.361,test_acc,0.35',\n",
       "  'Sym': 'log_root,../logs/,dataset,syn/syn11,dropout,0.5,epochs,3000,lr,0.001,l2,0.0005,num_filter,30,',\n",
       "  'GIN': 'log_root,../logs/,dataset,syn/syn11,epochs,3000,num_filter,64,dropout,0.5,lr,0.01,l2,0.0005,to_undirected,False,',\n",
       "  'GCN': 'log_root,../logs/,dataset,syn/syn11,epochs,3000,num_filter,64,dropout,0.5,lr,0.005,l2,0.0005,to_undirected,False,',\n",
       "  'Cheb': 'log_root,../logs/,dataset,syn/syn11,K,2,epochs,3000,num_filter,32,dropout,0.5,lr,0.001,l2,0.0005,',\n",
       "  'SAGE': 'log_root,../logs/,dataset,syn/syn11,epochs,3000,num_filter,32,dropout,0.5,lr,0.005,l2,0.0005,to_undirected,False,',\n",
       "  'GAT': 'log_root,../logs/,dataset,syn/syn11,heads,4,epochs,3000,num_filter,16,dropout,0.5,lr,0.001,l2,0.0005,to_undirected,False,',\n",
       "  'APPNP': 'log_root,../logs/,dataset,syn/syn11,epochs,3000,num_filter,64,alpha,0.05,to_undirected,False,lr,0.001,l2,0.0005,dropout,0.5,',\n",
       "  'DiG': 'log_root,../logs/,dataset,syn/syn11,epochs,3000,num_filter,64,dropout,0.5,lr,0.001,l2,0.0005,alpha,0.2,'},\n",
       " 'syn/syn12': {'Magnet': 'implement,cheb,log_root,../logs/,log_path,syn/syn12,data_path,../dataset/data/tmp/,dataset,syn/syn12,epochs,3000,q,0.05,seed,0,K,1,layer,2,dropout,0.5,lr,0.01,l2,0.0005,activation,True,num_filter,32,to_radians,none,,val_acc,0.214,test_acc,0.199',\n",
       "  'Sym': 'log_root,../logs/,dataset,syn/syn12,dropout,0.5,epochs,3000,lr,0.01,l2,0.0005,num_filter,30,',\n",
       "  'GIN': 'log_root,../logs/,dataset,syn/syn12,epochs,3000,num_filter,32,dropout,0.5,lr,0.01,l2,0.0005,to_undirected,False,',\n",
       "  'GCN': 'log_root,../logs/,dataset,syn/syn12,epochs,3000,num_filter,16,dropout,0.5,lr,0.001,l2,0.0005,to_undirected,False,',\n",
       "  'Cheb': 'log_root,../logs/,dataset,syn/syn12,K,2,epochs,3000,num_filter,32,dropout,0.5,lr,0.005,l2,0.0005,',\n",
       "  'SAGE': 'log_root,../logs/,dataset,syn/syn12,epochs,3000,num_filter,64,dropout,0.5,lr,0.001,l2,0.0005,to_undirected,True,',\n",
       "  'GAT': 'log_root,../logs/,dataset,syn/syn12,heads,4,epochs,3000,num_filter,64,dropout,0.5,lr,0.001,l2,0.0005,to_undirected,False,',\n",
       "  'APPNP': 'log_root,../logs/,dataset,syn/syn12,epochs,3000,num_filter,64,alpha,0.05,to_undirected,False,lr,0.005,l2,0.0005,dropout,0.5,',\n",
       "  'DiG': 'log_root,../logs/,dataset,syn/syn12,epochs,3000,num_filter,64,dropout,0.5,lr,0.01,l2,0.0005,alpha,0.15,'}}"
      ]
     },
     "execution_count": 6,
     "metadata": {},
     "output_type": "execute_result"
    }
   ],
   "source": [
    "settings_syn"
   ]
  },
  {
   "cell_type": "code",
   "execution_count": 2,
   "id": "b51bff3d",
   "metadata": {},
   "outputs": [
    {
     "data": {
      "text/plain": [
       "{'syn/syn1': {'CSym': 'log_root,../logs/,dataset,syn/syn1,dropout,0.5,epochs,3000,lr,0.01,l2,0.0005,num_filter,64,,val_acc,0.995,test_acc,0.992'},\n",
       " 'syn/syn2': {'CSym': 'log_root,../logs/,dataset,syn/syn2,dropout,0.5,epochs,3000,lr,0.01,l2,0.0005,num_filter,64,,val_acc,0.977,test_acc,0.974'},\n",
       " 'syn/syn3': {'CSym': 'log_root,../logs/,dataset,syn/syn3,dropout,0.5,epochs,3000,lr,0.005,l2,0.0005,num_filter,64,,val_acc,0.887,test_acc,0.891'},\n",
       " 'syn/syn4': {'CSym': 'log_root,../logs/,dataset,syn/syn4,dropout,0.5,epochs,3000,lr,0.01,l2,0.0005,num_filter,64,,val_acc,0.989,test_acc,0.988'},\n",
       " 'syn/syn5': {'CSym': 'log_root,../logs/,dataset,syn/syn5,dropout,0.5,epochs,3000,lr,0.01,l2,0.0005,num_filter,64,,val_acc,0.977,test_acc,0.974'},\n",
       " 'syn/syn6': {'CSym': 'log_root,../logs/,dataset,syn/syn6,dropout,0.5,epochs,3000,lr,0.01,l2,0.0005,num_filter,64,,val_acc,0.944,test_acc,0.948'},\n",
       " 'syn/syn7': {'CSym': 'log_root,../logs/,dataset,syn/syn7,dropout,0.5,epochs,3000,lr,0.01,l2,0.0005,num_filter,64,,val_acc,0.895,test_acc,0.899'},\n",
       " 'syn/syn8': {'CSym': 'log_root,../logs/,dataset,syn/syn8,dropout,0.5,epochs,3000,lr,0.01,l2,0.0005,num_filter,64,,val_acc,0.831,test_acc,0.824'},\n",
       " 'syn/syn9': {'CSym': 'log_root,../logs/,dataset,syn/syn9,dropout,0.5,epochs,3000,lr,0.01,l2,0.0005,num_filter,64,,val_acc,0.693,test_acc,0.7'},\n",
       " 'syn/syn10': {'CSym': 'log_root,../logs/,dataset,syn/syn10,dropout,0.5,epochs,3000,lr,0.005,l2,0.0005,num_filter,64,,val_acc,0.541,test_acc,0.539'},\n",
       " 'syn/syn11': {'CSym': 'log_root,../logs/,dataset,syn/syn11,dropout,0.5,epochs,3000,lr,0.005,l2,0.0005,num_filter,64,,val_acc,0.371,test_acc,0.36'},\n",
       " 'syn/syn12': {'CSym': 'log_root,../logs/,dataset,syn/syn12,dropout,0.5,epochs,3000,lr,0.01,l2,0.0005,num_filter,64,,val_acc,0.219,test_acc,0.195'}}"
      ]
     },
     "execution_count": 2,
     "metadata": {},
     "output_type": "execute_result"
    }
   ],
   "source": [
    "setting_dict = pk.load(open('./CSym_syn.pk','rb'))\n",
    "setting_dict"
   ]
  },
  {
   "cell_type": "code",
   "execution_count": null,
   "id": "1303b226",
   "metadata": {},
   "outputs": [],
   "source": []
  }
 ],
 "metadata": {
  "kernelspec": {
   "display_name": "Python 3",
   "language": "python",
   "name": "python3"
  },
  "language_info": {
   "codemirror_mode": {
    "name": "ipython",
    "version": 3
   },
   "file_extension": ".py",
   "mimetype": "text/x-python",
   "name": "python",
   "nbconvert_exporter": "python",
   "pygments_lexer": "ipython3",
   "version": "3.6.12"
  }
 },
 "nbformat": 4,
 "nbformat_minor": 5
}
